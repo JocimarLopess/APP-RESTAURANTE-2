{
  "nbformat": 4,
  "nbformat_minor": 0,
  "metadata": {
    "colab": {
      "name": "APP RESTAURANTE 2.ipynb",
      "provenance": [],
      "authorship_tag": "ABX9TyO4N/TehzCaVZZQgJ55m0YQ",
      "include_colab_link": true
    },
    "kernelspec": {
      "name": "python3",
      "display_name": "Python 3"
    },
    "language_info": {
      "name": "python"
    }
  },
  "cells": [
    {
      "cell_type": "markdown",
      "metadata": {
        "id": "view-in-github",
        "colab_type": "text"
      },
      "source": [
        "<a href=\"https://colab.research.google.com/github/JocimarLopess/APP-RESTAURANTE-2/blob/main/APP_RESTAURANTE_2.ipynb\" target=\"_parent\"><img src=\"https://colab.research.google.com/assets/colab-badge.svg\" alt=\"Open In Colab\"/></a>"
      ]
    },
    {
      "cell_type": "code",
      "execution_count": null,
      "metadata": {
        "colab": {
          "base_uri": "https://localhost:8080/"
        },
        "id": "pWbyI7FAx0hU",
        "outputId": "80dbb2d2-fe05-4bd3-9eb0-d000e981a633"
      },
      "outputs": [
        {
          "output_type": "stream",
          "name": "stdout",
          "text": [
            "Bem-vindo(a) ao Programa de Feijoada do(a) Jocimar Lopes\n",
            "\n"
          ]
        }
      ],
      "source": [
        "Jocimar_Lopes = \"Jocimar Lopes\" # meu identificador pessoal \n",
        "\n",
        "opcoesFeijoada = { # PARA IMPRIMIR AS OPÇÕES DE FEIJOADA\n",
        "    \"b\": [\"Básica (Feijão + Paiol + Costelinha)\", 1],\n",
        "    \"p\": [\"Premium (Feijão + Paiol + Costelinha + Partes de porco)\", 1.25],\n",
        "    \"s\": [\"Suprema (Feijão + Paiol + Costelinha + Partes do porco + Charque + Calabresa + Bacon)\", 1.50]\n",
        "}\n",
        "\n",
        "acompanhamentos = { # PARA IMPRIMIR OS ACOMPANHAMENTOS DA FEIJOADA\n",
        "    0: [\"Não desejo mais acompanhamentos (encerrar pedido)\", 0],\n",
        "    1: [\"200g de arroz\", 5],\n",
        "    2: [\"150g de farofa especial\", 6],\n",
        "    3: [\"100g de couve cozida\", 7],\n",
        "    4: [\"1 laranja descascada\", 3]\n",
        "}\n",
        "def volumeFeijoada(): # Função que solicita e valida o volume da feijoada\n",
        "    valor = 0\n",
        "\n",
        "    while True:\n",
        "        try:\n",
        "            volume = float(input(\"Entre com a quantidade que deseja (ml): \").strip().upper())\n",
        "            \n",
        "            if volume < 300 or volume > 5000: # obrigando o usuario a escolher um valor entre 300 a 5000\n",
        "                print(\"\\nNão aceitamos porções menores que 300ml ou maiores que 5L. Tente novamente!\\n\")\n",
        "            else:\n",
        "                valor = volume * 0.08 # calculo\n",
        "                break   \n",
        "        except ValueError: # se o usuario nao seguir a orientação \n",
        "            print(\"\\nDigite um volume válido.\\n\")\n",
        "\n",
        "    return valor # retornando o valor de volume solicitado pelo usuario * 0.08\n",
        "\n",
        "def opcaoFeijoada(): # Função que solicita e valida a opção da feijoada\n",
        "    \n",
        "    multiplicador = None\n",
        "\n",
        "    while True:\n",
        "        try:\n",
        "            print(\"\\nEntre com a opção de Feijoada:\")\n",
        "            for key, values in opcoesFeijoada.items():\n",
        "                print(f\"{key} - {values[0]}\")\n",
        "\n",
        "            opcao = input().strip().lower()\n",
        "            \n",
        "            if opcao not in opcoesFeijoada.keys():\n",
        "                print(\"\\nOpção inválida\\n\")\n",
        "            else:\n",
        "                multiplicador = opcoesFeijoada[opcao][1]\n",
        "                break                \n",
        "        except ValueError:\n",
        "            print(\"\\nDigite um opcao válida.\\n\")\n",
        "\n",
        "    return multiplicador\n",
        "\n",
        "def acompanhamentoFeijoada(): # Função que solicita e valida os acompanhamentos\n",
        "\n",
        "    total_acompanhamento = 0\n",
        "\n",
        "    while True:\n",
        "        try:\n",
        "            print(\"\\nDeseja mais algum acompanhamento:\")\n",
        "            for key, values in acompanhamentos.items():\n",
        "                print(f\"{key} - {values[0]}\")\n",
        "\n",
        "            opcao = int(input())\n",
        "            \n",
        "            if opcao not in acompanhamentos.keys():\n",
        "                print(\"\\nOpção inválida\\n\")\n",
        "            elif opcao == 0:\n",
        "                break                \n",
        "            else:\n",
        "                total_acompanhamento += acompanhamentos[opcao][1]\n",
        "\n",
        "        except ValueError:\n",
        "            print(\"\\nDigite um acompanhamento válido.\\n\")\n",
        "\n",
        "    return total_acompanhamento\n",
        "\n",
        "print(f\"Bem-vindo(a) ao Programa de Feijoada do(a) {Jocimar_Lopes}\\n\")\n",
        "\n",
        "valor = volumeFeijoada() # chamando funções\n",
        "opcao = opcaoFeijoada()\n",
        "adicionais = acompanhamentoFeijoada()\n",
        "\n",
        "total = (valor * opcao) + adicionais # calculo do total a ser pago pelas escolhas de feijoada\n",
        "\n",
        "print(f\"\\nO valor a ser pago é (R$): {total:.2f} (Volume = {valor:.2f} * opcao = {opcao:.2f} + Acompanhamento = {adicionais:.2f})\") # imprimindo resultado\n",
        "\n"
      ]
    }
  ]
}